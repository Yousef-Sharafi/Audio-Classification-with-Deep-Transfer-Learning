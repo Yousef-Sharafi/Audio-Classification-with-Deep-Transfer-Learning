{
  "nbformat": 4,
  "nbformat_minor": 0,
  "metadata": {
    "colab": {
      "provenance": []
    },
    "kernelspec": {
      "name": "python3",
      "display_name": "Python 3"
    },
    "language_info": {
      "name": "python"
    }
  },
  "cells": [
    {
      "cell_type": "code",
      "source": [
        "!unzip /content/drive/MyDrive/DS_audio_cat_dog.zip -d /content/drive/MyDrive/datasetCD_audio_cat_dog"
      ],
      "metadata": {
        "id": "4lawC8wbwqP7"
      },
      "execution_count": null,
      "outputs": []
    },
    {
      "cell_type": "code",
      "source": [
        "import os\n",
        "import librosa\n",
        "import librosa.display\n",
        "import matplotlib.pyplot as plt\n",
        "import numpy as np\n",
        "\n",
        "def create_clean_spectrogram(file_path, save_path):\n",
        "    # Load the audio file\n",
        "    y, sr = librosa.load(file_path)\n",
        "    # Create a spectrogram\n",
        "    S = librosa.feature.melspectrogram(y=y, sr=sr)\n",
        "    S_dB = librosa.power_to_db(S, ref=np.max)\n",
        "\n",
        "    # Plotting the spectrogram without any additional elements\n",
        "    plt.figure(figsize=(10, 4))\n",
        "    librosa.display.specshow(S_dB, sr=sr, x_axis='time', y_axis='mel')\n",
        "    plt.axis('off')  # Don't show axes.\n",
        "    plt.savefig(save_path, bbox_inches='tight', pad_inches=0)\n",
        "    plt.close()  # Close the figure to free memory\n",
        "\n",
        "# Path to your dataset\n",
        "path_to_audio_files = '/content/drive/MyDrive/datasetCD_audio_cat_dog/DS_audio_cat_dog'\n",
        "\n",
        "# Path to save spectrograms\n",
        "path_to_save_spectrograms = '/content/drive/MyDrive/clean_spectrograms/'\n",
        "\n",
        "# Ensure the save directory exists, if not, create it\n",
        "os.makedirs(path_to_save_spectrograms, exist_ok=True)\n",
        "\n",
        "# Process each file in the dataset\n",
        "for subfolder in ['cat', 'dog']:\n",
        "    full_path = os.path.join(path_to_audio_files, subfolder)\n",
        "    save_folder = os.path.join(path_to_save_spectrograms, subfolder)\n",
        "    os.makedirs(save_folder, exist_ok=True)  # Create a subfolder for images\n",
        "\n",
        "    # Process each file in the directory\n",
        "    for file in os.listdir(full_path):\n",
        "        if file.endswith('.wav'):  # Check if the file is a WAV file\n",
        "            file_path = os.path.join(full_path, file)\n",
        "            save_path = os.path.join(save_folder, f\"{os.path.splitext(file)[0]}.png\")\n",
        "            try:\n",
        "                create_clean_spectrogram(file_path, save_path)\n",
        "            except Exception as e:\n",
        "                print(f\"Failed to process {file}: {str(e)}\")\n"
      ],
      "metadata": {
        "id": "AHwjXDxUzyPD"
      },
      "execution_count": 6,
      "outputs": []
    },
    {
      "cell_type": "code",
      "source": [
        "import os\n",
        "import torch\n",
        "import torchvision\n",
        "from torchvision import transforms\n",
        "from torch.utils.data import DataLoader\n",
        "import pandas as pd\n",
        "\n",
        "# Define data transformations\n",
        "data_transform = transforms.Compose([\n",
        "    transforms.Resize((224, 224)),\n",
        "    transforms.ToTensor(),\n",
        "    transforms.Normalize(mean=[0.485, 0.456, 0.406],\n",
        "                         std=[0.229, 0.224, 0.225])\n",
        "])\n",
        "\n",
        "# Load dataset\n",
        "dataset = torchvision.datasets.ImageFolder(root=\"/content/drive/MyDrive/clean_spectrograms\", transform=data_transform)\n",
        "\n",
        "# Define data loader\n",
        "batch_size = 32\n",
        "data_loader = DataLoader(dataset, batch_size=batch_size, shuffle=False)\n",
        "\n",
        "# Load pre-trained ResNet50 model\n",
        "model = torchvision.models.resnet50(pretrained=True)\n",
        "# Remove the last fully connected layer\n",
        "model = torch.nn.Sequential(*list(model.children())[:-1])\n",
        "# Set model to evaluation mode\n",
        "model.eval()\n",
        "\n",
        "# Device configuration\n",
        "device = torch.device('cuda' if torch.cuda.is_available() else 'cpu')\n",
        "\n",
        "# Extract features and labels\n",
        "features_list = []\n",
        "labels_list = []\n",
        "\n",
        "with torch.no_grad():\n",
        "    for images, labels in data_loader:\n",
        "        images = images.to(device)\n",
        "        features = model(images)\n",
        "        features_list.append(features.cpu().numpy())\n",
        "        labels_list.append(labels.numpy())\n",
        "\n",
        "# Concatenate features and labels\n",
        "features = torch.from_numpy(np.concatenate(features_list))\n",
        "labels = torch.from_numpy(np.concatenate(labels_list))\n",
        "\n",
        "# Flatten features\n",
        "features = features.view(features.size(0), -1)\n",
        "\n",
        "# Create pandas DataFrame\n",
        "df = pd.DataFrame(features.numpy())\n",
        "\n",
        "# Get folder names to assign labels (0 for 'cat' and 1 for 'dog')\n",
        "folder_names = dataset.classes\n",
        "# Assign numerical labels based on folder names\n",
        "numerical_labels = [0 if folder == 'cat' else 1 for folder in folder_names]\n",
        "# Assign labels to the DataFrame\n",
        "df['label'] = [numerical_labels[label] for label in labels]\n",
        "\n",
        "# Save DataFrame to Excel\n",
        "df.to_excel('cat_dog_dataset_clean_spectrograms_for_audio.xlsx', index=False)\n"
      ],
      "metadata": {
        "colab": {
          "base_uri": "https://localhost:8080/"
        },
        "outputId": "f84bd566-364e-4545-8898-943f0d196527",
        "id": "m7fw_bRw2nlN"
      },
      "execution_count": 7,
      "outputs": [
        {
          "output_type": "stream",
          "name": "stderr",
          "text": [
            "/usr/local/lib/python3.10/dist-packages/torchvision/models/_utils.py:208: UserWarning: The parameter 'pretrained' is deprecated since 0.13 and may be removed in the future, please use 'weights' instead.\n",
            "  warnings.warn(\n",
            "/usr/local/lib/python3.10/dist-packages/torchvision/models/_utils.py:223: UserWarning: Arguments other than a weight enum or `None` for 'weights' are deprecated since 0.13 and may be removed in the future. The current behavior is equivalent to passing `weights=ResNet50_Weights.IMAGENET1K_V1`. You can also use `weights=ResNet50_Weights.DEFAULT` to get the most up-to-date weights.\n",
            "  warnings.warn(msg)\n"
          ]
        }
      ]
    },
    {
      "cell_type": "code",
      "source": [
        "import pandas as pd\n",
        "import torch\n",
        "import torch.nn as nn\n",
        "import torch.optim as optim\n",
        "from sklearn.metrics import confusion_matrix, accuracy_score\n",
        "from sklearn.model_selection import train_test_split\n",
        "import numpy as np\n",
        "import matplotlib.pyplot as plt\n",
        "\n",
        "# Load Iris dataset from Excel file\n",
        "data_df = pd.read_excel('/content/cat_dog_dataset_clean_spectrograms_for_audio.xlsx')\n",
        "X = data_df.iloc[:, :-1].values\n",
        "y = data_df.iloc[:, -1].values\n",
        "\n",
        "\n",
        "print(X.shape)\n",
        "print(y.shape)\n",
        "\n",
        "print(X)\n",
        "print(y)\n",
        "\n"
      ],
      "metadata": {
        "colab": {
          "base_uri": "https://localhost:8080/"
        },
        "id": "A5QaPtoD-XmY",
        "outputId": "9579b026-209a-49dd-dd1f-b9765302af41"
      },
      "execution_count": 8,
      "outputs": [
        {
          "output_type": "stream",
          "name": "stdout",
          "text": [
            "(277, 2048)\n",
            "(277,)\n",
            "[[0.15994872 0.04705508 0.09561326 ... 0.06514841 0.22889939 0.21407561]\n",
            " [0.50773197 0.47695974 0.11536323 ... 0.13863191 0.41908047 0.23556629]\n",
            " [0.26106015 0.05937244 0.07400312 ... 0.07023224 0.33865488 0.56027234]\n",
            " ...\n",
            " [0.41640544 0.10614377 0.39206514 ... 0.08650834 0.30595204 0.25226974]\n",
            " [0.38757926 0.05950654 0.24142997 ... 0.05013599 0.27050057 0.3083576 ]\n",
            " [0.70706856 0.03667315 0.38530323 ... 0.04918545 0.33810985 0.3789416 ]]\n",
            "[0 0 0 0 0 0 0 0 0 0 0 0 0 0 0 0 0 0 0 0 0 0 0 0 0 0 0 0 0 0 0 0 0 0 0 0 0\n",
            " 0 0 0 0 0 0 0 0 0 0 0 0 0 0 0 0 0 0 0 0 0 0 0 0 0 0 0 0 0 0 0 0 0 0 0 0 0\n",
            " 0 0 0 0 0 0 0 0 0 0 0 0 0 0 0 0 0 0 0 0 0 0 0 0 0 0 0 0 0 0 0 0 0 0 0 0 0\n",
            " 0 0 0 0 0 0 0 0 0 0 0 0 0 0 0 0 0 0 0 0 0 0 0 0 0 0 0 0 0 0 0 0 0 0 0 0 0\n",
            " 0 0 0 0 0 0 0 0 0 0 0 0 0 0 0 0 1 1 1 1 1 1 1 1 1 1 1 1 1 1 1 1 1 1 1 1 1\n",
            " 1 1 1 1 1 1 1 1 1 1 1 1 1 1 1 1 1 1 1 1 1 1 1 1 1 1 1 1 1 1 1 1 1 1 1 1 1\n",
            " 1 1 1 1 1 1 1 1 1 1 1 1 1 1 1 1 1 1 1 1 1 1 1 1 1 1 1 1 1 1 1 1 1 1 1 1 1\n",
            " 1 1 1 1 1 1 1 1 1 1 1 1 1 1 1 1 1 1]\n"
          ]
        }
      ]
    },
    {
      "cell_type": "code",
      "source": [
        "import pandas as pd\n",
        "import torch\n",
        "import torch.nn as nn\n",
        "import torch.optim as optim\n",
        "from sklearn.metrics import confusion_matrix, accuracy_score\n",
        "from sklearn.model_selection import train_test_split\n",
        "import numpy as np\n",
        "import matplotlib.pyplot as plt\n",
        "from sklearn.preprocessing import MinMaxScaler\n",
        "\n",
        "# Load dataset from Excel file\n",
        "data_df = pd.read_excel('/content/cat_dog_dataset_clean_spectrograms_for_audio.xlsx')\n",
        "X = data_df.iloc[:, :-1].values\n",
        "y = data_df.iloc[:, -1].values\n",
        "\n",
        "# Apply Min-Max scaling\n",
        "print(X.shape)\n",
        "print(y.shape)\n",
        "\n",
        "# Apply Min-Max scaling\n",
        "scaler = MinMaxScaler()\n",
        "X_scaled = scaler.fit_transform(X)\n",
        "\n",
        "# Convert numpy arrays to PyTorch tensors\n",
        "X_tensor = torch.tensor(X_scaled, dtype=torch.float32)\n",
        "y_tensor = torch.tensor(y, dtype=torch.long)\n",
        "\n",
        "# Split data into training and testing sets\n",
        "X_train, X_test, y_train, y_test = train_test_split(X_tensor, y_tensor, test_size=0.2, random_state=42, stratify=y_tensor)\n",
        "\n",
        "# Define MLP architecture\n",
        "class MLP(nn.Module):\n",
        "    def __init__(self, input_size, hidden_size1, hidden_size2, output_size):\n",
        "        super(MLP, self).__init__()\n",
        "        self.fc1 = nn.Linear(input_size, hidden_size1)\n",
        "        self.fc2 = nn.Linear(hidden_size1, hidden_size2)\n",
        "        self.fc3 = nn.Linear(hidden_size2, output_size)\n",
        "\n",
        "    def forward(self, x):\n",
        "        x = torch.relu(self.fc1(x))\n",
        "        x = torch.relu(self.fc2(x))\n",
        "        x = self.fc3(x)\n",
        "        return torch.softmax(x, dim=1)  # Apply softmax activation for multi-class classification\n",
        "\n",
        "# Define training function\n",
        "def train(model, criterion, optimizer, X_train, y_train, num_epochs=100):\n",
        "    train_losses = []\n",
        "\n",
        "    for epoch in range(num_epochs):\n",
        "        optimizer.zero_grad()\n",
        "        outputs = model(X_train)\n",
        "        loss = criterion(outputs, y_train)\n",
        "        loss.backward()\n",
        "        optimizer.step()\n",
        "        train_losses.append(loss.item())\n",
        "\n",
        "        if (epoch+1) % 50 == 0:\n",
        "            print(f'Epoch [{epoch+1}/{num_epochs}], Loss: {loss.item():.4f}')\n",
        "\n",
        "    return train_losses\n",
        "\n",
        "# Initialize the model, loss function, and optimizer\n",
        "input_size = 2048\n",
        "hidden_size1 = 100\n",
        "hidden_size2 = 50\n",
        "output_size = 2\n",
        "model = MLP(input_size, hidden_size1, hidden_size2, output_size)\n",
        "criterion = nn.CrossEntropyLoss()\n",
        "optimizer = optim.Adam(model.parameters(), lr=0.001)\n",
        "\n",
        "# Train the model\n",
        "train_losses = train(model, criterion, optimizer, X_train, y_train, num_epochs=1000)\n",
        "\n",
        "# Plot the training curve\n",
        "plt.plot(train_losses)\n",
        "plt.xlabel('Epochs')\n",
        "plt.ylabel('Loss')\n",
        "plt.title('Training Curve')\n",
        "plt.show()\n",
        "\n",
        "# Predict classes for training set\n",
        "with torch.no_grad():\n",
        "    train_outputs = model(X_train)\n",
        "    _, train_predicted = torch.max(train_outputs, 1)\n",
        "\n",
        "# Calculate confusion matrix and accuracy for training set\n",
        "train_cm = confusion_matrix(y_train.numpy(), train_predicted.numpy())\n",
        "train_accuracy = accuracy_score(y_train.numpy(), train_predicted.numpy())\n",
        "\n",
        "print(\"Training Confusion Matrix:\")\n",
        "print(train_cm)\n",
        "print(\"Training Accuracy:\", train_accuracy)\n",
        "\n",
        "# Predict classes for test set\n",
        "with torch.no_grad():\n",
        "    test_outputs = model(X_test)\n",
        "    _, test_predicted = torch.max(test_outputs, 1)\n",
        "\n",
        "# Calculate confusion matrix and accuracy for test set\n",
        "test_cm = confusion_matrix(y_test.numpy(), test_predicted.numpy())\n",
        "test_accuracy = accuracy_score(y_test.numpy(), test_predicted.numpy())\n",
        "\n",
        "print(\"\\nTesting Confusion Matrix:\")\n",
        "print(test_cm)\n",
        "print(\"Testing Accuracy:\", test_accuracy)\n"
      ],
      "metadata": {
        "colab": {
          "base_uri": "https://localhost:8080/",
          "height": 1000
        },
        "id": "4zZD0AAD3qop",
        "outputId": "68dcdf00-3de1-4557-cd98-8477beb1fa70"
      },
      "execution_count": 13,
      "outputs": [
        {
          "output_type": "stream",
          "name": "stdout",
          "text": [
            "(277, 2048)\n",
            "(277,)\n",
            "Epoch [50/1000], Loss: 0.3352\n",
            "Epoch [100/1000], Loss: 0.3227\n",
            "Epoch [150/1000], Loss: 0.3223\n",
            "Epoch [200/1000], Loss: 0.3179\n",
            "Epoch [250/1000], Loss: 0.3136\n",
            "Epoch [300/1000], Loss: 0.3133\n",
            "Epoch [350/1000], Loss: 0.3133\n",
            "Epoch [400/1000], Loss: 0.3133\n",
            "Epoch [450/1000], Loss: 0.3133\n",
            "Epoch [500/1000], Loss: 0.3133\n",
            "Epoch [550/1000], Loss: 0.3133\n",
            "Epoch [600/1000], Loss: 0.3133\n",
            "Epoch [650/1000], Loss: 0.3133\n",
            "Epoch [700/1000], Loss: 0.3133\n",
            "Epoch [750/1000], Loss: 0.3133\n",
            "Epoch [800/1000], Loss: 0.3133\n",
            "Epoch [850/1000], Loss: 0.3133\n",
            "Epoch [900/1000], Loss: 0.3133\n",
            "Epoch [950/1000], Loss: 0.3133\n",
            "Epoch [1000/1000], Loss: 0.3133\n"
          ]
        },
        {
          "output_type": "display_data",
          "data": {
            "text/plain": [
              "<Figure size 640x480 with 1 Axes>"
            ],
            "image/png": "[encoded data removed]"
          },
          "metadata": {}
        },
        {
          "output_type": "stream",
          "name": "stdout",
          "text": [
            "Training Confusion Matrix:\n",
            "[[131   0]\n",
            " [  0  90]]\n",
            "Training Accuracy: 1.0\n",
            "\n",
            "Testing Confusion Matrix:\n",
            "[[33  0]\n",
            " [ 4 19]]\n",
            "Testing Accuracy: 0.9285714285714286\n"
          ]
        }
      ]
    },
    {
      "cell_type": "code",
      "source": [
        "import matplotlib.pyplot as plt\n",
        "import seaborn as sns\n",
        "\n",
        "# Predict classes for training set\n",
        "with torch.no_grad():\n",
        "    train_outputs = model(X_train)\n",
        "    _, train_predicted = torch.max(train_outputs, 1)\n",
        "\n",
        "# Calculate confusion matrix for training set\n",
        "train_cm = confusion_matrix(y_train.numpy(), train_predicted.numpy())\n",
        "\n",
        "# Plot training confusion matrix\n",
        "plt.figure(figsize=(5, 4))\n",
        "sns.heatmap(train_cm, annot=True, cmap='Blues', fmt='g', xticklabels=['cat', 'dog'], yticklabels=['cat', 'dog'])\n",
        "plt.xlabel('Predicted labels')\n",
        "plt.ylabel('True labels')\n",
        "plt.title('Training Confusion Matrix')\n",
        "plt.show()\n",
        "\n",
        "# Predict classes for test set\n",
        "with torch.no_grad():\n",
        "    test_outputs = model(X_test)\n",
        "    _, test_predicted = torch.max(test_outputs, 1)\n",
        "\n",
        "# Calculate confusion matrix for test set\n",
        "test_cm = confusion_matrix(y_test.numpy(), test_predicted.numpy())\n",
        "\n",
        "# Plot testing confusion matrix\n",
        "plt.figure(figsize=(5, 4))\n",
        "sns.heatmap(test_cm, annot=True, cmap='Blues', fmt='g', xticklabels=['cat', 'dog'], yticklabels=['cat', 'dog'])\n",
        "plt.xlabel('Predicted labels')\n",
        "plt.ylabel('True labels')\n",
        "plt.title('Testing Confusion Matrix')\n",
        "plt.show()\n"
      ],
      "metadata": {
        "colab": {
          "base_uri": "https://localhost:8080/",
          "height": 803
        },
        "id": "83TL9GbhAsZD",
        "outputId": "5e8510b9-82ed-4096-ac4a-ed6196d4175e"
      },
      "execution_count": 14,
      "outputs": [
        {
          "output_type": "display_data",
          "data": {
            "text/plain": [
              "<Figure size 500x400 with 2 Axes>"
            ],
            "image/png": "[encoded data removed]"
          },
          "metadata": {}
        },
        {
          "output_type": "display_data",
          "data": {
            "text/plain": [
              "<Figure size 500x400 with 2 Axes>"
            ],
            "image/png": "[encoded data removed]"
          },
          "metadata": {}
        }
      ]
    }
  ]
}